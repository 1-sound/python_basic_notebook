{
 "cells": [
  {
   "cell_type": "markdown",
   "id": "0527e4dd",
   "metadata": {},
   "source": [
    "## 1. Juptyter Notebook 단축키\n",
    "입력모드 : Cell(녹색 테두리)  \n",
    "명령모드 : Cell(파랑 테두리)\n",
    "\n",
    "1. Cell Type 변경\n",
    "  - 명령모드 + m : Makrdown 모드 전환\n",
    "  - 명령모드 + y : Code 모드 전환\n",
    "2. Cell 실행\n",
    "  - Ctrl + Enter : Cell 실행\n",
    "3. Cell 추가\n",
    "  - a : 해당 Cell을 기준으로 위에 Cell 생성\n",
    "  - b : 해당 Cell을 기준으로 아래에 Cell 생성\n",
    "4. Cell 삭제\n",
    "  - dd : 해당 Cell 삭제\n",
    "5. Help\n",
    "  - h : Jupyter Notebook Help 실행"
   ]
  },
  {
   "cell_type": "markdown",
   "id": "a0850120",
   "metadata": {},
   "source": [
    "## 2. Title\n",
    "\n",
    "# Hello python\n",
    "## Hello python\n",
    "### Hello python\n",
    "#### Hello python\n",
    "##### Hello python\n",
    "###### Hello python"
   ]
  },
  {
   "cell_type": "markdown",
   "id": "a687af78",
   "metadata": {},
   "source": [
    "## 3. 진하게 & 이텔릭체\n",
    "\n",
    "**Python** is really *cool*"
   ]
  },
  {
   "cell_type": "markdown",
   "id": "f4d4e424",
   "metadata": {},
   "source": [
    "## 4. 리스트\n",
    "\n",
    "순서가 없는 리스트\n",
    "- 프로그래밍 언어\n",
    "  + 웹프로그래밍\n",
    "    * Java\n",
    "    * JavaScript\n",
    "  + 앱프로그래밍\n",
    "    * Java\n",
    "    * Kotlin\n",
    "  + 인공지능\n",
    "    * Python\n",
    "\n",
    "순서가 있는 리스트\n",
    "1. 사과\n",
    "2. 바나나\n",
    "3. 딸기"
   ]
  },
  {
   "cell_type": "markdown",
   "id": "47abfdba",
   "metadata": {},
   "source": [
    "## 5. 파이썬 코드\n",
    "\n",
    "```python\n",
    "a = 10\n",
    "print(a)\n",
    "```"
   ]
  },
  {
   "cell_type": "markdown",
   "id": "35ac2d3c",
   "metadata": {},
   "source": [
    "## 6. 하이퍼링크\n",
    "\n",
    "[Python 공홈](https://www.python.org)"
   ]
  },
  {
   "cell_type": "markdown",
   "id": "2925065a",
   "metadata": {},
   "source": [
    "## 7. 기타\n",
    "\n",
    "수식  \n",
    "$y=3x+b$\n",
    "\n",
    "인용구  \n",
    "> Life is short, you need python :)"
   ]
  }
 ],
 "metadata": {
  "kernelspec": {
   "display_name": "Python 3 (ipykernel)",
   "language": "python",
   "name": "python3"
  },
  "language_info": {
   "codemirror_mode": {
    "name": "ipython",
    "version": 3
   },
   "file_extension": ".py",
   "mimetype": "text/x-python",
   "name": "python",
   "nbconvert_exporter": "python",
   "pygments_lexer": "ipython3",
   "version": "3.9.7"
  }
 },
 "nbformat": 4,
 "nbformat_minor": 5
}
